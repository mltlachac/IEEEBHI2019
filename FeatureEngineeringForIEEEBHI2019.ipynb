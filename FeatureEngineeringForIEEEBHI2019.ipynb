{
 "cells": [
  {
   "cell_type": "code",
   "execution_count": null,
   "metadata": {
    "collapsed": true
   },
   "outputs": [],
   "source": [
    "#author: ML Tlachac\n",
    "\n",
    "import pandas as pd\n",
    "import numpy as np\n",
    "import matplotlib.pyplot as plt\n",
    "from textblob import TextBlob\n",
    "import textblob as tb\n",
    "import json\n",
    "\n",
    "#load text message data\n",
    "df = pd.read_csv(\"textDF.csv\")\n",
    "print(\"Number of Texts: \" + str(df.shape[0]))\n",
    "print(\"Number of Participants: \" + str(len(set(df.id))))\n",
    "df1 = df[df[\"type.1\"] == 1]\n",
    "df2 = df[df[\"type.1\"] == 2]\n",
    "print(\"Number of Recieved Texts: \" + str(df1.shape[0]))\n",
    "print(\"Number of Participants with Recieved Texts: \" + str(len(set(df1.id))))\n",
    "print(\"Number of Sent Texts: \" + str(df2.shape[0]))\n",
    "print(\"Number of Participants with Sent Texts: \" + str(len(set(df2.id))))"
   ]
  },
  {
   "cell_type": "code",
   "execution_count": null,
   "metadata": {
    "collapsed": true
   },
   "outputs": [],
   "source": [
    "#set of IDs\n",
    "setID1 = list(set(df1.id))\n",
    "setID2 = list(set(df2.id))\n",
    "\n",
    "#Recieved Texts information extraction\n",
    "pID = []\n",
    "pAddress = []\n",
    "pContent = []\n",
    "nTexts = []\n",
    "pDF1 = pd.DataFrame()\n",
    "for i in range(0, len(setID1)):\n",
    "    tempDF = df1[df1.id == setID1[i]]\n",
    "    addressID = list(set(tempDF.address))\n",
    "    for j in range(0, len(addressID)):\n",
    "        pID.append(setID1[i])\n",
    "        pAddress.append(addressID[j])\n",
    "        tempDF2 = tempDF[tempDF.address == addressID[j]]\n",
    "        tempDF2 = tempDF2.set_index(np.arange(0,tempDF2.shape[0]))\n",
    "        texts = []\n",
    "        for k in range(0, tempDF2.shape[0]):\n",
    "            texts.append(tempDF2.body[k])\n",
    "        pContent.append(texts)\n",
    "        nTexts.append(len(texts))\n",
    "pDF1[\"ID\"] = pID\n",
    "pDF1[\"Address\"] = pAddress\n",
    "pDF1[\"Content\"] = pContent\n",
    "pDF1[\"Texts\"] = nTexts\n",
    "print(\"Number of Participant-Sender Combinations for Recieved Texts: \" + str(pDF1.shape[0]))"
   ]
  },
  {
   "cell_type": "code",
   "execution_count": null,
   "metadata": {
    "collapsed": true
   },
   "outputs": [],
   "source": [
    "#text message POS tags and sentiment\n",
    "\n",
    "polarity = []\n",
    "subjectivity = []\n",
    "tags = []\n",
    "for i in range(0, len(pDF1.ID)):\n",
    "    print(i)\n",
    "    polarity2 = []\n",
    "    subjectivity2 = []\n",
    "    tags2 = []\n",
    "    for text in pDF1.Content[i]:\n",
    "        T = TextBlob(str(text))\n",
    "        polarity2.append(T.sentiment[0])\n",
    "        subjectivity2.append(T.sentiment[1])\n",
    "        for word, tag in T.tags:\n",
    "            tags2.append(tag)\n",
    "    tags.append(tags2)\n",
    "    polarity.append(polarity2)\n",
    "    subjectivity.append(subjectivity2)\n",
    "pDF1[\"POStags\"] = tags\n",
    "pDF1[\"Polarity\"] = polarity\n",
    "pDF1[\"Subjectivity\"] = subjectivity"
   ]
  },
  {
   "cell_type": "code",
   "execution_count": null,
   "metadata": {
    "collapsed": true
   },
   "outputs": [],
   "source": [
    "#calculate features from POStags column\n",
    "posTags = []\n",
    "for i in range(0, pDF1.shape[0]):\n",
    "    for tag in pDF1.POStags[i]:\n",
    "        posTags.append(tag)\n",
    "for i in range(0, pDF2.shape[0]):\n",
    "    for tag in pDF2.POStags[i]:\n",
    "        posTags.append(tag)\n",
    "for i in range(0, pDFt.shape[0]):\n",
    "    for tag in pDFt.POStags[i]:\n",
    "        posTags.append(tag)\n",
    "posSet = set(posTags)\n",
    "print(posSet)\n",
    "\n",
    "poswords1 = []\n",
    "for posList in pDF1.POStags:\n",
    "    poswords1.append(len(posList))\n",
    "pDF1[\"WordsTags\"] = poswords1\n",
    "\n",
    "for tag in posSet:\n",
    "    cnt = []\n",
    "    for posList in pDF1.POStags:\n",
    "        counter = 0\n",
    "        for item in posList:\n",
    "            if item == tag:\n",
    "                counter += 1\n",
    "        cnt.append(counter)\n",
    "    pDF1[tag] = cnt"
   ]
  },
  {
   "cell_type": "code",
   "execution_count": null,
   "metadata": {
    "collapsed": true
   },
   "outputs": [],
   "source": [
    "#sentiment features for text messages\n",
    "\n",
    "pcount = []\n",
    "ncount = []\n",
    "pavg = []\n",
    "navg = []\n",
    "scount = []\n",
    "savg = []\n",
    "for i in range(0, pDF1.shape[0]):\n",
    "    s = []\n",
    "    p = []\n",
    "    n = []\n",
    "    for item in pDF1.Polarity[i]:\n",
    "        if item > 0:\n",
    "            p.append(item)\n",
    "        if item < 0:\n",
    "            n.append(item)\n",
    "    for item in pDF1.Subjectivity[i]:\n",
    "        if item > 0:\n",
    "            s.append(item)\n",
    "    pcount.append(len(p))\n",
    "    ncount.append(len(n))\n",
    "    scount.append(len(s))\n",
    "    if len(p) > 0:\n",
    "        pavg.append(sum(p)/len(p))\n",
    "    else:\n",
    "        pavg.append(0)\n",
    "    if len(n) > 0:\n",
    "        navg.append(sum(n)/len(n))\n",
    "    else:\n",
    "        navg.append(0)\n",
    "    if len(s) > 0:\n",
    "        savg.append(sum(s)/len(s))\n",
    "    else:\n",
    "        savg.append(0)\n",
    "pDF1[\"PositiveCnt\"] = pcount\n",
    "pDF1[\"NegativeCnt\"] = ncount\n",
    "pDF1[\"PostitiveAvg\"] = pavg\n",
    "pDF1[\"NegativeAvg\"] = navg\n",
    "pDF1[\"SubjectiveCnt\"] = scount\n",
    "pDF1[\"SubjectiveAvg\"] = savg"
   ]
  },
  {
   "cell_type": "code",
   "execution_count": null,
   "metadata": {
    "collapsed": true
   },
   "outputs": [],
   "source": [
    "#save pDF1 to be used in FeatureSetsForIEEEBHI2019.ipynb\n",
    "pDF1.to_csv(\"TextSetupDFa.csv\")"
   ]
  }
 ],
 "metadata": {
  "anaconda-cloud": {},
  "kernelspec": {
   "display_name": "Python [default]",
   "language": "python",
   "name": "python3"
  },
  "language_info": {
   "codemirror_mode": {
    "name": "ipython",
    "version": 3
   },
   "file_extension": ".py",
   "mimetype": "text/x-python",
   "name": "python",
   "nbconvert_exporter": "python",
   "pygments_lexer": "ipython3",
   "version": "3.5.2"
  }
 },
 "nbformat": 4,
 "nbformat_minor": 1
}
