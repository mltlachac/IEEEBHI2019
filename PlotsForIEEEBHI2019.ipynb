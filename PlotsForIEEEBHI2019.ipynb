{
 "cells": [
  {
   "cell_type": "code",
   "execution_count": 2,
   "metadata": {
    "collapsed": true
   },
   "outputs": [],
   "source": [
    "#author: ML Tlachac\n",
    "\n",
    "import pandas as pd\n",
    "import matplotlib.pyplot as plt\n",
    "import numpy as np\n",
    "from scipy import stats\n",
    "fileset = [\"tRdf.csv\", \"cRdf2.csv\", \"cRdf3.csv\", \"cRdf4.csv\", \"cRdf0.25.csv\", \"cRdf0.5.csv\", \"cRdf0.75.csv\", \"cRdf0.75w.csv\", \"cRdf0.5w.csv\", \"cRdf0.25w.csv\", \"nRdf.csv\"]\n",
    "nameset = ['1', \"C(2)\", \"C(3)\", \"C(4)\", \"C(25%)\", \"C(50%)\", \"C(75%)\", \"C(0.75)\", \"C(0.5)\", \"C(0.25)\", \"All\"]"
   ]
  },
  {
   "cell_type": "code",
   "execution_count": 3,
   "metadata": {
    "collapsed": true
   },
   "outputs": [],
   "source": [
    "dfk = pd.read_csv(\"resultskNN118.csv\")\n",
    "dfk = dfk[dfk.parameter == 7]\n",
    "dfs = pd.read_csv(\"resultsSVC118.csv\")\n",
    "dfs = dfs[dfs.parameter == \"poly\"]\n",
    "dfr = pd.read_csv(\"resultsgRF118.csv\")\n",
    "dfr = dfr[dfr.parameter == \"gini4\"]\n",
    "dfx = pd.read_csv(\"resultsXG118.csv\")\n",
    "dfx = dfx[dfx.parameter == 3]\n",
    "dfl = pd.read_csv(\"resultsLR118.csv\")\n",
    "\n",
    "dfn = pd.read_csv(\"resultsgNB15p128.csv\")\n",
    "dfn = dfn[dfn.nFeatures == 45]\n",
    "dfa = pd.read_csv(\"resultsADA118.csv\")\n",
    "dfb = pd.read_csv(\"resultsBNB118.csv\")\n",
    "modelList = [dfk, dfs, dfr, dfa, dfx, dfl, dfn]\n",
    "modelNames = [\"kNN\", \"SVC\", \"Random Forest\", \"AdaBoost\", \"XGBoost\", \"Logistic Regression\", \"Gaussian Naive Bayes\"]"
   ]
  },
  {
   "cell_type": "code",
   "execution_count": 160,
   "metadata": {
    "collapsed": false
   },
   "outputs": [
    {
     "name": "stdout",
     "output_type": "stream",
     "text": [
      "0.5964139234526009\n",
      "0.5763267025377766\n",
      "0.5753112974662896\n",
      "0.5500477726151566\n",
      "0.5682160363737228\n",
      "0.5206539531467372\n",
      "0.6528572429044607\n"
     ]
    }
   ],
   "source": [
    "saveName = [\"kNN\", \"SVC\", \"RF\", \"AdaBoost\", \"XGBoost\", \"LR\", \"GNB\"]\n",
    "avgList = []\n",
    "mcount = 0\n",
    "for model in modelList: \n",
    "    df = pd.DataFrame()\n",
    "    averages = []\n",
    "    for f in range(0, len(fileset)):\n",
    "        df[nameset[f]] = list(model[model[\"file\"] == fileset[f]].f1List)\n",
    "        averages.append(sum(model[model[\"file\"] == fileset[f]].f1List)/100)\n",
    "    avgList.append(max(averages))\n",
    "    print(max(averages))\n",
    "    plt.figure(figsize = (16, 4))\n",
    "    plt.xlabel(\"Number of Contacts\", fontsize = 12)\n",
    "    plt.ylabel(\"F1\", fontsize = 12)\n",
    "    plt.title(modelNames[mcount], fontsize = 15)\n",
    "    df.boxplot(column = nameset)\n",
    "    plt.savefig(\"pics/\" + saveName[mcount] + \"100.pdf\")\n",
    "    #plt.show()\n",
    "    plt.close()\n",
    "    mcount += 1"
   ]
  },
  {
   "cell_type": "code",
   "execution_count": 144,
   "metadata": {
    "collapsed": false
   },
   "outputs": [
    {
     "data": {
      "image/png": "[encoded data removed]",
      "text/plain": [
       "<Figure size 432x288 with 1 Axes>"
      ]
     },
     "metadata": {},
     "output_type": "display_data"
    }
   ],
   "source": [
    "plt.figure(figsize = (6, 4))\n",
    "plt.bar(saveName, avgList, width = 0.75, alpha = 0.85)#, color = colorList)\n",
    "plt.plot((-0.75, 7.75), (0.5, 0.5), color = 'k', ls = '--')\n",
    "plt.xlim(-0.75, 6.75)\n",
    "plt.xticks(rotation = 'vertical', fontsize = 12)\n",
    "plt.ylim(0, 1)\n",
    "plt.ylabel(\"F1\", fontsize = 12)\n",
    "plt.title(\"Method Comparison\", fontsize = 15)\n",
    "plt.savefig(\"pics/MethodComparison100.eps\")\n",
    "plt.show()\n",
    "plt.close()"
   ]
  },
  {
   "cell_type": "code",
   "execution_count": 5,
   "metadata": {
    "collapsed": false,
    "scrolled": false
   },
   "outputs": [
    {
     "name": "stdout",
     "output_type": "stream",
     "text": [
      "Gaussian Naive Bayes\n",
      "-----------------------------\n",
      "tRdf.csv\n",
      "0.6067235589911046\n",
      "Ttest_indResult(statistic=6.9981596683730025, pvalue=3.920691193244682e-11)\n",
      "-----------------------------\n",
      "cRdf2.csv\n",
      "0.6260384598893207\n",
      "Ttest_indResult(statistic=10.40405824344061, pvalue=1.675355161769852e-20)\n",
      "-----------------------------\n",
      "cRdf3.csv\n",
      "0.6057126871341662\n",
      "Ttest_indResult(statistic=6.2230756879463565, pvalue=2.8515733424454043e-09)\n",
      "-----------------------------\n",
      "cRdf4.csv\n",
      "0.6106098199307434\n",
      "Ttest_indResult(statistic=6.2614700475907465, pvalue=2.3227532736896097e-09)\n",
      "-----------------------------\n",
      "cRdf0.25.csv\n",
      "0.6193048340756182\n",
      "Ttest_indResult(statistic=11.48549865802224, pvalue=9.925247198980452e-24)\n",
      "-----------------------------\n",
      "cRdf0.5.csv\n",
      "0.5367480785772593\n",
      "Ttest_indResult(statistic=-0.7461851149462868, pvalue=0.45644060918022944)\n",
      "-----------------------------\n",
      "cRdf0.75.csv\n",
      "0.5398483881978089\n",
      "Ttest_indResult(statistic=-0.28916004549839186, pvalue=0.7727614415373637)\n",
      "-----------------------------\n",
      "cRdf0.75w.csv\n",
      "0.6469923152371257\n",
      "Ttest_indResult(statistic=17.388184478772764, pvalue=1.0066011139098537e-41)\n",
      "-----------------------------\n",
      "cRdf0.5w.csv\n",
      "0.6668235039691255\n",
      "Ttest_indResult(statistic=22.83671684223734, pvalue=2.2130713768702046e-57)\n",
      "-----------------------------\n",
      "cRdf0.25w.csv\n",
      "0.5933067893136404\n",
      "Ttest_indResult(statistic=4.608620573896677, pvalue=7.253504638276197e-06)\n",
      "-----------------------------\n",
      "nRdf.csv\n",
      "0.5420312696258804\n",
      "Ttest_indResult(statistic=0.0, pvalue=1.0)\n",
      "\n",
      "\n",
      "\n"
     ]
    }
   ],
   "source": [
    "modelList2 = [dfn]\n",
    "modelNames2 = [\"Gaussian Naive Bayes\"]\n",
    "mcount = 0\n",
    "for model in modelList2:\n",
    "    print(modelNames2[mcount])\n",
    "    df1 = model[model.file == \"nRdf.csv\"]\n",
    "    for file in fileset:\n",
    "        print(\"-----------------------------\")\n",
    "        print(file)\n",
    "        df2 = model[model[\"file\"] == file]\n",
    "        print(sum(df2[df2[\"file\"] == file].f1List)/100)\n",
    "        print(stats.ttest_ind(df2.f1List, df1.f1List))\n",
    "    print(\"\")\n",
    "    print(\"\")\n",
    "    print(\"\")\n",
    "    mcount += 1"
   ]
  },
  {
   "cell_type": "code",
   "execution_count": 230,
   "metadata": {
    "collapsed": false
   },
   "outputs": [
    {
     "data": {
      "image/png": "[encoded data removed]",
      "text/plain": [
       "<Figure size 432x288 with 1 Axes>"
      ]
     },
     "metadata": {},
     "output_type": "display_data"
    }
   ],
   "source": [
    "df25p = pd.read_csv(\"cRdf0.25.csv\")\n",
    "df25w = pd.read_csv(\"cRdf0.25w.csv\")\n",
    "dfAll = pd.read_csv(\"nRdf.csv\")\n",
    "count = []\n",
    "for i in range(0, dfAll.shape[0]):\n",
    "    count.append(i)\n",
    "\n",
    "binsn = [0, 10, 20, 30, 40, 50, 60, 70, 80, 90, 100, 110, 120, 130, 140, 150, 160, 170, 180, 190, 200, 210, 220, 230, 240, 250, 260, 270, 280, 290, 300, 310, 320, 330, 340, 350, 360, 370, 380, 390, 400, 410, 420]\n",
    "\n",
    "import numpy as np\n",
    "binsc = np.arange(1, 115, 5)\n",
    " \n",
    "plt.hist(df25p.k_nAddress, bins = binsc, color = 'k', alpha = 0.7, edgecolor = 'k', label = \"C(25%)\", hatch = \"//\")\n",
    "plt.hist(df25w.k_nAddress, bins = binsc, color = 'w', alpha = 0.4, edgecolor = 'k', label = \"C(0.25)\", hatch = \" \")\n",
    "plt.legend(fontsize=12)\n",
    "plt.xlabel(\"Number of Contacts\", fontsize = 12)\n",
    "plt.ylabel(\"Frequency\", fontsize = 12)\n",
    "plt.savefig(\"pics/Contacts2.pdf\")\n",
    "plt.show()\n",
    "plt.close()"
   ]
  },
  {
   "cell_type": "code",
   "execution_count": null,
   "metadata": {
    "collapsed": true
   },
   "outputs": [],
   "source": []
  }
 ],
 "metadata": {
  "kernelspec": {
   "display_name": "Python [default]",
   "language": "python",
   "name": "python3"
  },
  "language_info": {
   "codemirror_mode": {
    "name": "ipython",
    "version": 3
   },
   "file_extension": ".py",
   "mimetype": "text/x-python",
   "name": "python",
   "nbconvert_exporter": "python",
   "pygments_lexer": "ipython3",
   "version": "3.5.2"
  }
 },
 "nbformat": 4,
 "nbformat_minor": 2
}
