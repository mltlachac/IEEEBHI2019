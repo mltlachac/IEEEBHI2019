{
 "cells": [
  {
   "cell_type": "code",
   "execution_count": 2,
   "metadata": {
    "collapsed": false
   },
   "outputs": [],
   "source": [
    "#author: ML Tlachac\n",
    "\n",
    "import pandas as pd\n",
    "import numpy as np\n",
    "import matplotlib.pyplot as plt\n",
    "from textblob import TextBlob\n",
    "import textblob as tb\n",
    "\n",
    "from empath import Empath\n",
    "lexicon = Empath()\n",
    "lexicon.analyze(\"text\", normalize=True)"
   ]
  },
  {
   "cell_type": "code",
   "execution_count": 13,
   "metadata": {
    "collapsed": false
   },
   "outputs": [],
   "source": [
    "#load data outputed from data preprocessing\n",
    "pDF = pd.read_csv(\"TextSetupDFa.csv\")\n",
    "\n",
    "#add features not captured in feature engineering code\n",
    "nTags = []\n",
    "for i in range(0, len(pDF)):\n",
    "    nTags.append(len(pDF.Tags[i].split(\",\")))\n",
    "pDF[\"nTags\"] = nTags\n",
    "nChar = []\n",
    "for i in range(0, len(pDF)):\n",
    "    nChar.append(len(pDF.Content[i]))\n",
    "pDF[\"nChar\"] = nChar\n",
    "\n",
    "#remove columns not used in model- command changed with version\n",
    "#pDF = pDF.drop(columns = ['Unnamed: 0', 'Address', \"Content\", \"posTags\", \"Polarity\", \"Subjectivity\"])\n",
    "pDF = pDF.drop(['Unnamed: 0', 'Address', \"Content\", \"posTags\", \"Polarity\", \"Subjectivity\", \"Tags\"], axis = 1)\n",
    "\n",
    "#outputs the released dataset\n",
    "pDF.to_csv(\"pDF.csv\", index=False)"
   ]
  },
  {
   "cell_type": "code",
   "execution_count": null,
   "metadata": {
    "collapsed": true
   },
   "outputs": [],
   "source": [
    "#w is user given parameter a, r, and w in the paper\n",
    "#values can be integers or decimals\n",
    "w = 0.5"
   ]
  },
  {
   "cell_type": "code",
   "execution_count": null,
   "metadata": {
    "collapsed": true
   },
   "outputs": [],
   "source": [
    "#Combine rows into lists for each participant\n",
    "\n",
    "colSet = list(set(pDF.columns))\n",
    "setID = list(set(pDF.ID))\n",
    "\n",
    "for c in colSet:\n",
    "    tlist = []\n",
    "    nlist = []\n",
    "    slist = []\n",
    "    for i in range(0, len(setID)):\n",
    "        tempDF = pDF[pDF.ID == setID[i]]\n",
    "        tempDF = tempDF.reset_index()\n",
    "        templist = []\n",
    "        for j in range(0, tempDF.shape[0]):\n",
    "            templist.append(tempDF[c][j])\n",
    "        if c == \"ID\":\n",
    "            tlist.append(templist[0])\n",
    "            nlist.append(tempDF.shape[0])\n",
    "        else:\n",
    "            tlist.append(templist)\n",
    "        if c == \"Texts\":\n",
    "            slist.append(sum(templist))\n",
    "    idDF[c] = tlist\n",
    "    if c == \"ID\":\n",
    "        idDF[\"nAddress\"] = nlist\n",
    "    if c == \"Texts\":\n",
    "        idDF[\"nTexts\"] = slist\n"
   ]
  },
  {
   "cell_type": "code",
   "execution_count": null,
   "metadata": {
    "collapsed": true
   },
   "outputs": [],
   "source": [
    "#w option 1: can use if w is an integer\n",
    "\n",
    "#k = []\n",
    "#k_nAddress = []\n",
    "#for i in range(0, len(setID)):\n",
    "#    tempDF = pDF[pDF.ID == setID[i]]\n",
    "#    tempDF = tempDF.set_index(np.arange(0,tempDF.shape[0]))\n",
    "#    tempDF2 = tempDF.sort_values(by = \"Texts\", ascending = False)\n",
    "#    list2 = list(tempDF2.index[0:w])\n",
    "#    k.append(list2)\n",
    "#    k_nAddress.append(len(list2))"
   ]
  },
  {
   "cell_type": "code",
   "execution_count": null,
   "metadata": {
    "collapsed": true
   },
   "outputs": [],
   "source": [
    "#w option 2: can use if w is a decimal\n",
    "\n",
    "k = []\n",
    "k_nAddress = []\n",
    "for i in range(0, len(setID)):\n",
    "    tempDF = pDF[pDF.ID == setID[i]]\n",
    "    tempDF = tempDF.set_index(np.arange(0,tempDF.shape[0]))\n",
    "    tempDF2 = tempDF.sort_values(by = \"Texts\", ascending = False)\n",
    "    threshold = int(round(w*tempDF.shape[0], 0))\n",
    "    if threshold == 0:\n",
    "        list2 = []\n",
    "        list2.append(tempDF2.index[0])\n",
    "    else:\n",
    "        list2 = list(tempDF2.index[0:threshold])\n",
    "    k.append(list2)\n",
    "    k_nAddress.append(len(list2))"
   ]
  },
  {
   "cell_type": "code",
   "execution_count": null,
   "metadata": {
    "collapsed": true
   },
   "outputs": [],
   "source": [
    "#get top 1 and top k\n",
    "#w option 3: can use if w is a decimal - commented out\n",
    "\n",
    "#k = []\n",
    "one = []\n",
    "n = []\n",
    "#k_nAddress = []\n",
    "#k_pct = []\n",
    "\n",
    "for i in range(0, idDF.shape[0]):\n",
    "    #setT = sorted(idDF.Texts[i])\n",
    "    maxT = max(idDF.Texts[i])\n",
    "    #kcontacts = []\n",
    "    onecontacts = []\n",
    "    n.append(len(idDF.Address[i]))\n",
    "    for j in range(0, len(idDF.Address[i])):\n",
    "        if idDF.Texts[i][j] == maxT:\n",
    "            onecontacts.append(j)\n",
    "        #if idDF.Texts[i][j] >= w*maxT:\n",
    "            #kcontacts.append(j)\n",
    "    one.append(onecontacts[0])\n",
    "    #k.append(kcontacts)\n",
    "    #k_nAddress.append(len(kcontacts))\n",
    "    #k_pct.append(len(kcontacts)/idDF.nAddress[i])\n",
    "\n",
    "idDF[\"k\"] = k\n",
    "idDF[\"t\"] = one\n",
    "idDF[\"k_nAddress\"] = k_nAddress\n",
    "idDF[\"nAddress\"] = n\n",
    "idDF[0:2]"
   ]
  },
  {
   "cell_type": "code",
   "execution_count": null,
   "metadata": {
    "collapsed": true
   },
   "outputs": [],
   "source": [
    "#read file with PHQ-9 scores and extract needed information\n",
    "phqDF = pd.read_csv(\"phq.csv\")\n",
    "phqDF2 = pd.DataFrame()\n",
    "phqDF2[\"ID\"] = phqDF[\"ID\"]\n",
    "phqDF2[\"PHQ\"] = phqDF[\"PHQ\"]\n",
    "phqDF2 = phqDF2.dropna()\n",
    "phqDF2 = phqDF2.astype(\"int64\")\n",
    "\n",
    "#merge dataframes\n",
    "idDF = idDF.merge(phqDF2, on = \"ID\")"
   ]
  },
  {
   "cell_type": "code",
   "execution_count": null,
   "metadata": {
    "collapsed": true
   },
   "outputs": [],
   "source": [
    "#new dataframes for n, k, and t patients\n",
    "\n",
    "nDF = pd.DataFrame()\n",
    "kDF = pd.DataFrame()\n",
    "tDF = pd.DataFrame()\n",
    "nDF[\"ID\"] = idDF[\"ID\"]\n",
    "kDF[\"ID\"] = idDF[\"ID\"]\n",
    "tDF[\"ID\"] = idDF[\"ID\"]\n",
    "kDF[\"k_nAddress\"] = idDF[\"k_nAddress\"]\n",
    "nDF[\"n_nAddress\"] = idDF[\"nAddress\"]\n",
    "tDF[\"n_nAddress\"] = idDF[\"nAddress\"]\n",
    "\n",
    "col = list(idDF.columns[:-4])\n",
    "\n",
    "k_col = []\n",
    "t_col = []\n",
    "n_col = []\n",
    "for c in col:\n",
    "    k_col.append(\"k_\" + c)\n",
    "    t_col.append(\"t_\" + c)\n",
    "    n_col.append(\"n_\" + c)\n",
    "    \n",
    "for c in range(1, len(col)):\n",
    "    n_templist = []\n",
    "    t_templist = []\n",
    "    k_templist = []\n",
    "    for i in range(0, idDF.shape[0]):\n",
    "        t_templist.append(idDF[col[c]][i][idDF.t[i]])\n",
    "        n_templist.append(sum(idDF[col[c]][i]))\n",
    "        k_templist2 = []\n",
    "        for j in range(0, len(idDF.k[i])):\n",
    "            k_templist2.append(idDF[col[c]][i][idDF.k[i][j]])\n",
    "        k_templist.append(sum(k_templist2))\n",
    "    tDF[t_col[c]] = t_templist\n",
    "    kDF[k_col[c]] = k_templist\n",
    "    nDF[n_col[c]] = n_templist\n",
    "\n",
    "nDF[\"PHQ\"] = idDF[\"PHQ\"]\n",
    "kDF[\"PHQ\"] = idDF[\"PHQ\"]\n",
    "tDF[\"PHQ\"] = idDF[\"PHQ\"]"
   ]
  },
  {
   "cell_type": "code",
   "execution_count": null,
   "metadata": {
    "collapsed": true
   },
   "outputs": [],
   "source": [
    "#change middle columns into averages or percents\n",
    "\n",
    "n_col = list(nDF)\n",
    "k_col = list(kDF)\n",
    "t_col = list(tDF)\n",
    "nDF2 = pd.DataFrame()\n",
    "kDF2 = pd.DataFrame()\n",
    "tDF2 = pd.DataFrame()\n",
    "for i in range(0, len(n_col)):\n",
    "    if (i < 3) | (i == nDF.shape[1]-1):\n",
    "        nDF2[n_col[i]] = nDF[n_col[i]]\n",
    "        kDF2[k_col[i]] = kDF[k_col[i]]\n",
    "        tDF2[t_col[i]] = tDF[t_col[i]] \n",
    "    elif i < 8:\n",
    "        n_avg = []\n",
    "        k_avg = []\n",
    "        t_avg = []\n",
    "        for j in range(0, nDF.shape[0]):\n",
    "            n_avg.append(nDF[n_col[i]][j]/nDF[\"n_Texts\"][j])\n",
    "            k_avg.append(kDF[k_col[i]][j]/kDF[\"k_Texts\"][j])\n",
    "            t_avg.append(tDF[t_col[i]][j]/tDF[\"t_Texts\"][j])\n",
    "        nDF2[n_col[i]] = n_avg\n",
    "        kDF2[k_col[i]] = k_avg\n",
    "        tDF2[t_col[i]] = t_avg\n",
    "    elif ((i > 7) & (i < 11)):\n",
    "        n_avg = []\n",
    "        k_avg = []\n",
    "        t_avg = []\n",
    "        for j in range(0, nDF.shape[0]):\n",
    "            n_avg.append(nDF[n_col[i]][j]/nDF[\"n_nAddress\"][j])\n",
    "            k_avg.append(kDF[k_col[i]][j]/kDF[\"k_nAddress\"][j])\n",
    "        nDF2[n_col[i]] = n_avg\n",
    "        kDF2[k_col[i]] = k_avg\n",
    "        tDF2[t_col[i]] = tDF[t_col[i]]    \n",
    "    else:\n",
    "        n_avg = []\n",
    "        k_avg = []\n",
    "        t_avg = []\n",
    "        for j in range(0, nDF.shape[0]):\n",
    "            n_avg.append(nDF[n_col[i]][j]/nDF[\"n_nTags\"][j])\n",
    "            k_avg.append(kDF[k_col[i]][j]/kDF[\"k_nTags\"][j])\n",
    "            t_avg.append(tDF[t_col[i]][j]/tDF[\"t_nTags\"][j])\n",
    "        nDF2[n_col[i]] = n_avg \n",
    "        kDF2[k_col[i]] = k_avg\n",
    "        tDF2[t_col[i]] = t_avg\n",
    "        \n",
    "#save dataframes that will be fed into machine learning model\n",
    "nDF2.to_csv(\"nAllTBdfsd.csv\")\n",
    "kDF2.to_csv(\"kTBdf\" + str(w) + \"pctsd.csv\")\n",
    "tDF2.to_csv(\"tAllTBdfsd.csv\")"
   ]
  },
  {
   "cell_type": "code",
   "execution_count": null,
   "metadata": {
    "collapsed": true
   },
   "outputs": [],
   "source": []
  }
 ],
 "metadata": {
  "anaconda-cloud": {},
  "kernelspec": {
   "display_name": "Python [default]",
   "language": "python",
   "name": "python3"
  },
  "language_info": {
   "codemirror_mode": {
    "name": "ipython",
    "version": 3
   },
   "file_extension": ".py",
   "mimetype": "text/x-python",
   "name": "python",
   "nbconvert_exporter": "python",
   "pygments_lexer": "ipython3",
   "version": "3.5.2"
  }
 },
 "nbformat": 4,
 "nbformat_minor": 2
}
